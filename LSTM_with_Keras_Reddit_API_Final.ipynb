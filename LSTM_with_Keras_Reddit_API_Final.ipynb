{
 "cells": [
  {
   "cell_type": "code",
   "execution_count": 1,
   "id": "6b7f99e3",
   "metadata": {},
   "outputs": [],
   "source": [
    "import numpy as np \n",
    "import pandas as pd\n",
    "import matplotlib.pyplot as plt\n",
    "import seaborn as sns\n",
    "from keras.preprocessing.text import Tokenizer\n",
    "from keras.preprocessing.sequence import pad_sequences\n",
    "from keras.models import Sequential\n",
    "from keras.layers import Dense, Embedding, LSTM, SpatialDropout1D\n",
    "from sklearn.model_selection import train_test_split\n",
    "from keras.utils.np_utils import to_categorical\n",
    "from keras.callbacks import EarlyStopping\n",
    "from keras.layers import Dropout\n",
    "import re\n",
    "from nltk.corpus import stopwords\n",
    "from nltk import word_tokenize\n",
    "STOPWORDS = set(stopwords.words('english'))\n",
    "from bs4 import BeautifulSoup\n",
    "import plotly.graph_objs as go\n",
    "import datasets\n",
    "from tqdm import tqdm"
   ]
  },
  {
   "cell_type": "code",
   "execution_count": 2,
   "id": "fae2b830",
   "metadata": {},
   "outputs": [],
   "source": [
    "STOPWORDS = set(stopwords.words('english'))\n",
    "MAX_WORDS = 20000\n",
    "EMBEDDING_DIM = 100\n",
    "MAX_SEQUENCE_LENGTH = 50"
   ]
  },
  {
   "cell_type": "code",
   "execution_count": 3,
   "id": "35fb9df4",
   "metadata": {},
   "outputs": [],
   "source": [
    "def clean_dataset(df):\n",
    "    df.drop('id', axis = 1, inplace = True)\n",
    "    df.columns = ['TEXTS_COLUMN', 'LABELS_COLUMN']\n",
    "    \n",
    "    for i in tqdm(range(len(df))):\n",
    "        for j in df.loc[i, 'LABELS_COLUMN']:\n",
    "            df.loc[i, j] = 1\n",
    "        if len(df.loc[i, 'LABELS_COLUMN']) == 1:\n",
    "            df.loc[i, 'LABELS_COLUMN'] = df.loc[i, 'LABELS_COLUMN'][0]\n",
    "            \n",
    "    df.replace(np.nan, 0, inplace = True)\n",
    "    \n",
    "    return df\n",
    "\n",
    "def clean_text(text):\n",
    "    # Text to lower case\n",
    "    text = text.lower()\n",
    "    #Remove stop words, extra characters, digits and other tags:\n",
    "    text = re.sub(r'[/(){}\\[\\]\\|@,;]', '', text)\n",
    "    text = re.sub(r'[^0-9a-z #+_]', '', text)\n",
    "    text = ' '.join(word for word in text.split() if word not in STOPWORDS)\n",
    "    return text\n",
    "\n",
    "def freqs(texts):\n",
    "    freqs_dict = {}\n",
    "    for text in texts:\n",
    "        text = clean_text(text).split()\n",
    "        for word in text:\n",
    "            if word in freqs_dict.keys():\n",
    "                freqs_dict[word] += 1\n",
    "            else:\n",
    "                freqs_dict[word] = 1\n",
    "    \n",
    "    return freqs_dict"
   ]
  },
  {
   "cell_type": "code",
   "execution_count": 4,
   "id": "836ce45c",
   "metadata": {},
   "outputs": [
    {
     "name": "stderr",
     "output_type": "stream",
     "text": [
      "No config specified, defaulting to: go_emotions/simplified\n",
      "Reusing dataset go_emotions (C:\\Users\\maste\\.cache\\huggingface\\datasets\\go_emotions\\simplified\\0.0.0\\2637cfdd4e64d30249c3ed2150fa2b9d279766bfcd6a809b9f085c61a90d776d)\n"
     ]
    },
    {
     "data": {
      "application/vnd.jupyter.widget-view+json": {
       "model_id": "f8d76117b2ca49f3ad25fbb102489f95",
       "version_major": 2,
       "version_minor": 0
      },
      "text/plain": [
       "  0%|          | 0/3 [00:00<?, ?it/s]"
      ]
     },
     "metadata": {},
     "output_type": "display_data"
    },
    {
     "name": "stderr",
     "output_type": "stream",
     "text": [
      "100%|████████████████████████████████████████████████████████| 43410/43410 [00:07<00:00, 5912.09it/s]\n",
      "100%|██████████████████████████████████████████████████████████| 5427/5427 [00:00<00:00, 6330.57it/s]\n",
      "100%|██████████████████████████████████████████████████████████| 5426/5426 [00:00<00:00, 6234.65it/s]\n"
     ]
    },
    {
     "name": "stdout",
     "output_type": "stream",
     "text": [
      "Maximum sequence length: 29\n",
      "Mean sequence length: 6.880879981571066\n"
     ]
    }
   ],
   "source": [
    "dataset = datasets.load_dataset('go_emotions')\n",
    "train, test, val = pd.DataFrame(dataset['train']), pd.DataFrame(dataset['test']), pd.DataFrame(dataset['validation'])\n",
    "clean_train, clean_test, clean_val = clean_dataset(train), clean_dataset(test), clean_dataset(val)\n",
    "\n",
    "clean_train['TEXTS_COLUMN'] = clean_train.TEXTS_COLUMN.apply(clean_text)\n",
    "clean_test['TEXTS_COLUMN'] = clean_test.TEXTS_COLUMN.apply(clean_text)\n",
    "clean_val['TEXTS_COLUMN'] = clean_val.TEXTS_COLUMN.apply(clean_text)\n",
    "\n",
    "print('Maximum sequence length:',max([len(text.split()) for text in clean_train['TEXTS_COLUMN']]))\n",
    "print('Mean sequence length:',np.mean([len(text.split()) for text in clean_train['TEXTS_COLUMN']]))"
   ]
  },
  {
   "cell_type": "code",
   "execution_count": 5,
   "id": "46d9a6e7",
   "metadata": {},
   "outputs": [
    {
     "name": "stdout",
     "output_type": "stream",
     "text": [
      "28223\n"
     ]
    }
   ],
   "source": [
    "frequency_dict = freqs(clean_train['TEXTS_COLUMN'])\n",
    "print(len(frequency_dict))"
   ]
  },
  {
   "cell_type": "code",
   "execution_count": 6,
   "id": "65dde9f6",
   "metadata": {},
   "outputs": [
    {
     "name": "stdout",
     "output_type": "stream",
     "text": [
      "Found 28092 unique tokens.\n"
     ]
    }
   ],
   "source": [
    "tokenizer = Tokenizer(num_words = 20000, filters = '!\"#$%&()*+,-./:;<=>?@[\\]^_`{|}~', lower = True)\n",
    "tokenizer.fit_on_texts(clean_train['TEXTS_COLUMN'].values)\n",
    "word_index = tokenizer.word_index\n",
    "print('Found %s unique tokens.' % len(word_index))"
   ]
  },
  {
   "cell_type": "code",
   "execution_count": 7,
   "id": "207dcbde",
   "metadata": {},
   "outputs": [
    {
     "name": "stdout",
     "output_type": "stream",
     "text": [
      "Shape of data tensor: (43410, 50)\n",
      "Shape of data tensor: (5426, 50)\n"
     ]
    }
   ],
   "source": [
    "X_train = tokenizer.texts_to_sequences(clean_train['TEXTS_COLUMN'].values)\n",
    "X_train = pad_sequences(X_train, maxlen=MAX_SEQUENCE_LENGTH)\n",
    "print('Shape of data tensor:', X_train.shape)\n",
    "\n",
    "X_val = tokenizer.texts_to_sequences(clean_val['TEXTS_COLUMN'].values)\n",
    "X_val = pad_sequences(X_val, maxlen=MAX_SEQUENCE_LENGTH)\n",
    "print('Shape of data tensor:', X_val.shape)\n",
    "X = np.concatenate((X_train, X_val), axis = 0)"
   ]
  },
  {
   "cell_type": "code",
   "execution_count": 8,
   "id": "dcf5874b",
   "metadata": {},
   "outputs": [],
   "source": [
    "Y_train = pd.get_dummies(clean_train[[i for i in range(28)]]).values\n",
    "Y_val = pd.get_dummies(clean_val[[i for i in range(28)]]).values\n",
    "Y = np.concatenate((Y_train, Y_val), axis = 0)"
   ]
  },
  {
   "cell_type": "code",
   "execution_count": 9,
   "id": "6842bc27",
   "metadata": {},
   "outputs": [
    {
     "name": "stdout",
     "output_type": "stream",
     "text": [
      "Model: \"sequential\"\n",
      "_________________________________________________________________\n",
      "Layer (type)                 Output Shape              Param #   \n",
      "=================================================================\n",
      "embedding (Embedding)        (None, 50, 100)           2000000   \n",
      "_________________________________________________________________\n",
      "spatial_dropout1d (SpatialDr (None, 50, 100)           0         \n",
      "_________________________________________________________________\n",
      "lstm (LSTM)                  (None, 100)               80400     \n",
      "_________________________________________________________________\n",
      "dense (Dense)                (None, 28)                2828      \n",
      "=================================================================\n",
      "Total params: 2,083,228\n",
      "Trainable params: 2,083,228\n",
      "Non-trainable params: 0\n",
      "_________________________________________________________________\n",
      "None\n"
     ]
    }
   ],
   "source": [
    "model = Sequential()\n",
    "model.add(Embedding(MAX_WORDS, EMBEDDING_DIM, input_length=X_train.shape[1]))\n",
    "model.add(SpatialDropout1D(0.1))\n",
    "model.add(LSTM(100, dropout=0.1, recurrent_dropout=0.1))\n",
    "model.add(Dense(28, activation='softmax'))\n",
    "model.compile(loss='categorical_crossentropy', optimizer='adam', metrics=['accuracy'])\n",
    "print(model.summary())"
   ]
  },
  {
   "cell_type": "code",
   "execution_count": 10,
   "id": "6f5fe1cb",
   "metadata": {},
   "outputs": [
    {
     "name": "stdout",
     "output_type": "stream",
     "text": [
      "Epoch 1/10\n",
      "611/611 [==============================] - 84s 135ms/step - loss: 3.1461 - accuracy: 0.3312 - val_loss: 2.8912 - val_accuracy: 0.3960\n",
      "Epoch 2/10\n",
      "611/611 [==============================] - 85s 138ms/step - loss: 2.7321 - accuracy: 0.4334 - val_loss: 2.7775 - val_accuracy: 0.4372\n",
      "Epoch 3/10\n",
      "611/611 [==============================] - 87s 142ms/step - loss: 2.6093 - accuracy: 0.4521 - val_loss: 2.7919 - val_accuracy: 0.4358\n",
      "Epoch 4/10\n",
      "611/611 [==============================] - 86s 141ms/step - loss: 2.5202 - accuracy: 0.4614 - val_loss: 2.8380 - val_accuracy: 0.4246\n",
      "Epoch 5/10\n",
      "611/611 [==============================] - 72s 118ms/step - loss: 2.4426 - accuracy: 0.4735 - val_loss: 2.8588 - val_accuracy: 0.4255\n"
     ]
    }
   ],
   "source": [
    "epochs = 10\n",
    "batch_size = 64\n",
    "\n",
    "history = model.fit(X_train, Y_train, epochs=epochs, batch_size=batch_size,validation_split=0.1,callbacks=[EarlyStopping(monitor='val_loss', patience=3, min_delta=0.0001)])"
   ]
  },
  {
   "cell_type": "code",
   "execution_count": 11,
   "id": "13df9ba2",
   "metadata": {},
   "outputs": [
    {
     "name": "stdout",
     "output_type": "stream",
     "text": [
      "170/170 [==============================] - 2s 13ms/step - loss: 2.7589 - accuracy: 0.4390\n",
      "Test set\n",
      "  Loss: 2.759\n",
      "  Accuracy: 0.439\n"
     ]
    }
   ],
   "source": [
    "accuracy = model.evaluate(X_val, Y_val)\n",
    "print('Test set\\n  Loss: {:0.3f}\\n  Accuracy: {:0.3f}'.format(accuracy[0],accuracy[1]))"
   ]
  },
  {
   "cell_type": "code",
   "execution_count": 12,
   "id": "90995ea6",
   "metadata": {},
   "outputs": [
    {
     "data": {
      "image/png": "[encoded data removed]",
      "text/plain": [
       "<Figure size 432x288 with 1 Axes>"
      ]
     },
     "metadata": {
      "needs_background": "light"
     },
     "output_type": "display_data"
    }
   ],
   "source": [
    "plt.title('Accuracy')\n",
    "plt.plot(history.history['accuracy'], label='train')\n",
    "plt.plot(history.history['val_accuracy'], label='test')\n",
    "plt.legend()\n",
    "plt.show();"
   ]
  },
  {
   "cell_type": "code",
   "execution_count": 13,
   "id": "511fc2d3",
   "metadata": {},
   "outputs": [],
   "source": [
    "import praw"
   ]
  },
  {
   "cell_type": "code",
   "execution_count": 14,
   "id": "bb464e05",
   "metadata": {},
   "outputs": [
    {
     "data": {
      "text/plain": [
       "Redditor(name='Otherwise-Tension237')"
      ]
     },
     "execution_count": 14,
     "metadata": {},
     "output_type": "execute_result"
    }
   ],
   "source": [
    "reddit = praw.Reddit(\n",
    "        client_id = ,\n",
    "        client_secret = ,\n",
    "        password = ,\n",
    "        user_agent = ,\n",
    "        username = )\n",
    "reddit.user.me()"
   ]
  },
  {
   "cell_type": "code",
   "execution_count": 15,
   "id": "63a17a6f",
   "metadata": {},
   "outputs": [],
   "source": [
    "posts = []\n",
    "for i in praw.models.Front(reddit).best():\n",
    "    posts.append([i.id, i.title])\n",
    "posts = pd.DataFrame(posts, columns = ['Post_ID', 'Post_Title'])"
   ]
  },
  {
   "cell_type": "code",
   "execution_count": 16,
   "id": "8c8a1ad4",
   "metadata": {},
   "outputs": [],
   "source": [
    "labels = ['admiration',\n",
    "'amusement',\n",
    "'anger',\n",
    "'annoyance',\n",
    "'approval',\n",
    "'caring',\n",
    "'confusion',\n",
    "'curiosity',\n",
    "'desire',\n",
    "'disappointment',\n",
    "'disapproval',\n",
    "'disgust',\n",
    "'embarrassment',\n",
    "'excitement',\n",
    "'fear',\n",
    "'gratitude',\n",
    "'grief',\n",
    "'joy',\n",
    "'love',\n",
    "'nervousness',\n",
    "'optimism',\n",
    "'pride',\n",
    "'realization',\n",
    "'relief',\n",
    "'remorse',\n",
    "'sadness',\n",
    "'surprise',\n",
    "'neutral']\n",
    "ids2labels = {i : j for i, j in enumerate(labels)}\n",
    "labels2ids = {j : i for i, j in enumerate(labels)}"
   ]
  },
  {
   "cell_type": "code",
   "execution_count": 17,
   "id": "d1a30682",
   "metadata": {},
   "outputs": [
    {
     "name": "stdout",
     "output_type": "stream",
     "text": [
      "Text:can I get a 💩 in chat for Muffy \n",
      " Label1 neutral\n",
      " Label2 approval\n",
      "Text:A beautiful roll cloud over Lake Michigan immortalized by Ken Temple \n",
      " Label1 admiration\n",
      " Label2 approval\n",
      "Text:sinkhole under a pool \n",
      " Label1 neutral\n",
      " Label2 annoyance\n",
      "Text:Hotel does OP's laundry and takes her to the cleaners \n",
      " Label1 neutral\n",
      " Label2 annoyance\n",
      "Text:How is that even possible! \n",
      " Label1 neutral\n",
      " Label2 annoyance\n",
      "Text:OOP is hard of hearing, and her boss mocks her voice volume level behind her back \n",
      " Label1 neutral\n",
      " Label2 approval\n",
      "Text::( \n",
      " Label1 neutral\n",
      " Label2 approval\n",
      "Text:Cop decks crazy woman for trying to bite him! \n",
      " Label1 neutral\n",
      " Label2 annoyance\n",
      "Text:Saenchai the 5’4 Muay Thai legend takes on a opponent a couple weight classes above him \n",
      " Label1 admiration\n",
      " Label2 approval\n",
      "Text:Anon lives in America.... \n",
      " Label1 neutral\n",
      " Label2 annoyance\n",
      "Text:The length what a toxic relationship will do. \n",
      " Label1 neutral\n",
      " Label2 admiration\n",
      "Text:Kitten asserts dominance \n",
      " Label1 neutral\n",
      " Label2 annoyance\n",
      "Text:Injured cat craves comfort of human \n",
      " Label1 neutral\n",
      " Label2 annoyance\n",
      "Text:So, my mom is evading taxes today. \n",
      " Label1 neutral\n",
      " Label2 annoyance\n",
      "Text:What is it about skirts/sundresses that turns guys on? \n",
      " Label1 neutral\n",
      " Label2 annoyance\n",
      "Text:Working to survive. \n",
      " Label1 neutral\n",
      " Label2 approval\n",
      "Text:update: chef threw a saute pan at me. \n",
      " Label1 neutral\n",
      " Label2 annoyance\n",
      "Text:My BFF sent me this today about her grandson (in red, 4M). Black is kid’s father. \n",
      " Label1 neutral\n",
      " Label2 annoyance\n",
      "Text:National Commission for Protection of Child Rights (ncpcr) \n",
      " Label1 neutral\n",
      " Label2 annoyance\n",
      "Text:Mom is target practice \n",
      " Label1 neutral\n",
      " Label2 annoyance\n",
      "Text:A guy wearing a business suit approaches you one day giving you a choice of 5 options, he's quite insistent and won't leave you alone until you pick one. What do you choose? \n",
      " Label1 neutral\n",
      " Label2 annoyance\n",
      "Text:A quite smooth outfit change \n",
      " Label1 admiration\n",
      " Label2 neutral\n",
      "Text:\"oy\"... \n",
      " Label1 neutral\n",
      " Label2 annoyance\n",
      "Text:Thanks \n",
      " Label1 gratitude\n",
      " Label2 optimism\n",
      "Text:Battle Of Gods \n",
      " Label1 neutral\n",
      " Label2 annoyance\n",
      "Text:It probably would only have been the Pillar Men arc, and Kira rampaging in Morioh \n",
      " Label1 neutral\n",
      " Label2 annoyance\n",
      "Text:\"sorry, I can't right now , I am in tunnel\". 😉 \n",
      " Label1 surprise\n",
      " Label2 neutral\n",
      "Text:Season 2 is about to start🤡 \n",
      " Label1 neutral\n",
      " Label2 approval\n",
      "Text:maybe maybe maybe \n",
      " Label1 neutral\n",
      " Label2 annoyance\n",
      "Text:“carnivore, omnivore, vegan” \n",
      " Label1 neutral\n",
      " Label2 annoyance\n",
      "Text:You can't beat cancer by \"fighting hard\" and the concept that you can is offensive to people who die from it. \n",
      " Label1 neutral\n",
      " Label2 annoyance\n",
      "Text:this is not medical advice \n",
      " Label1 neutral\n",
      " Label2 annoyance\n",
      "Text:Co-worker reported me for not doing enough work. What do I do? \n",
      " Label1 neutral\n",
      " Label2 annoyance\n",
      "Text:Bear is sick of the circus \n",
      " Label1 neutral\n",
      " Label2 annoyance\n",
      "Text:Brazil, Complexo do Alemão, a favela in Rio de Janeiro, heavily armed criminal shoots at a police helicopter \n",
      " Label1 neutral\n",
      " Label2 approval\n",
      "Text:Dundeary Landstalker \n",
      " Label1 neutral\n",
      " Label2 approval\n",
      "Text:An unarmed 13-year-old is paralyzed after being shot by Chicago police. His lawyers contend his hands were up. \n",
      " Label1 neutral\n",
      " Label2 approval\n",
      "Text:Mob harasses small business and steals ENTIRE TRAY OF FRIED CHICKEN 🐓 \n",
      " Label1 neutral\n",
      " Label2 annoyance\n",
      "Text:How To Overcome The Emptiness of Reaching Goals? \n",
      " Label1 admiration\n",
      " Label2 neutral\n",
      "Text:I'm parked on my property and I get a violation. Fuck the HOA. \n",
      " Label1 neutral\n",
      " Label2 annoyance\n",
      "Text:Tipping in USA is getting way out of hand \n",
      " Label1 neutral\n",
      " Label2 annoyance\n",
      "Text:Mississippi police chief linked to racist recording. In a recording obtained by MCIR, a Mississippi law enforcement officer can be heard bragging about his number of kills. The officer, who said he killed 13 people, at one point boasted \"I shot that n----- 119 times, OK?\" \n",
      " Label1 neutral\n",
      " Label2 annoyance\n",
      "Text:Security guard fires 4 shots at homeless man for entering Taco Bell and asking for a cup of water! \n",
      " Label1 neutral\n",
      " Label2 surprise\n",
      "Text:Snake + cats = Complete chaos \n",
      " Label1 neutral\n",
      " Label2 annoyance\n",
      "Text:Man kicked out of McDonald’s after buying food to a homeless elderly \n",
      " Label1 neutral\n",
      " Label2 annoyance\n",
      "Text:\"Only\" 3 rounds of interviews! \n",
      " Label1 neutral\n",
      " Label2 annoyance\n",
      "Text:Why does a grown ass man holds a grudge for someone from kindergarten? \n",
      " Label1 neutral\n",
      " Label2 annoyance\n",
      "Text:OOP's Wedding Photo's Saga \n",
      " Label1 neutral\n",
      " Label2 annoyance\n",
      "Text:I don’t want to ruin the mood, but… \n",
      " Label1 neutral\n",
      " Label2 annoyance\n",
      "Text:I actually like having a broken nail/hang nail. \n",
      " Label1 neutral\n",
      " Label2 annoyance\n",
      "Text:Amen \n",
      " Label1 neutral\n",
      " Label2 annoyance\n",
      "Text:A man sees a child falling from floor 6, hurried over, throws away his phone and caught the child with his hands. \n",
      " Label1 neutral\n",
      " Label2 annoyance\n",
      "Text:happened to my buddy eric once \n",
      " Label1 neutral\n",
      " Label2 annoyance\n",
      "Text:OOP is a teacher who supposedly called a student “as dumb as a bowl of cereal.” \n",
      " Label1 neutral\n",
      " Label2 annoyance\n",
      "Text:Got placed on a PIP (performance improvement plan) I work in a FP&A role, 3 years of experience overall. Any advice? \n",
      " Label1 neutral\n",
      " Label2 surprise\n",
      "Text:[Serious] WYR be the only one that will suffer in hell for eternity or all of humanity will suffer except you? \n",
      " Label1 neutral\n",
      " Label2 annoyance\n",
      "Text:After my mum’s death in a car crash, i (F19) got invited to a diner by her friends. they pulled out of nowhere a huge ass cardboard w/ my mum’s head on it (right). The left one is the sister of the middle girl, who is totally alive and just couldn’t attend the diner. Of course i wasnt warned before. \n",
      " Label1 surprise\n",
      " Label2 neutral\n",
      "Text:[Meta] The 25 most discussed watch brands on r/Watches \n",
      " Label1 neutral\n",
      " Label2 annoyance\n",
      "Text:When is the appropriate time to celebrate getting a job? \n",
      " Label1 neutral\n",
      " Label2 surprise\n",
      "Text:Hey guys , i think i just passed calc ll \n",
      " Label1 neutral\n",
      " Label2 approval\n",
      "Text:When should I end my internship? \n",
      " Label1 neutral\n",
      " Label2 approval\n",
      "Text:OOP is an eccentric teacher who plays along when her students believe she works for a secret government agency. \n",
      " Label1 neutral\n",
      " Label2 annoyance\n",
      "Text:TIFU by leaving our “cleanup” towel on the floor. \n",
      " Label1 neutral\n",
      " Label2 annoyance\n",
      "Text:Nobody believed him \n",
      " Label1 neutral\n",
      " Label2 annoyance\n",
      "Text:His intellectual capacity for physics is actually a curse \n",
      " Label1 neutral\n",
      " Label2 approval\n",
      "Text:I see dead people \n",
      " Label1 neutral\n",
      " Label2 annoyance\n",
      "Text:No, absolutely not \n",
      " Label1 neutral\n",
      " Label2 approval\n",
      "Text:( ͡◉ ͜ʖ ͡◉) \n",
      " Label1 neutral\n",
      " Label2 approval\n",
      "Text:Anon went to Japan \n",
      " Label1 neutral\n",
      " Label2 annoyance\n",
      "Text:[D] Hey Reddit! We're a bunch of research scientists and software engineers and we just open sourced a new state-of-the-art AI model that can translate between 200 different languages. We're excited to hear your thoughts so we're hosting an AMA on 07/21/2022 @ 9:00AM PT. Ask Us Anything! \n",
      " Label1 neutral\n",
      " Label2 annoyance\n",
      "Text:\"DoEsn'T jUdGe Me bAseD oN mY pAsT\". Girl, you're 18. \n",
      " Label1 neutral\n",
      " Label2 annoyance\n",
      "Text:The rope do be lookin funny \n",
      " Label1 amusement\n",
      " Label2 surprise\n",
      "Text:Detecting political bias in online articles using NLP and classification models \n",
      " Label1 neutral\n",
      " Label2 annoyance\n",
      "Text:WCGW leaving windows opened at sea \n",
      " Label1 neutral\n",
      " Label2 annoyance\n",
      "Text:kya se kya ho gaya. \n",
      " Label1 neutral\n",
      " Label2 annoyance\n",
      "Text:Nobody Wants To Work Any More! \n",
      " Label1 neutral\n",
      " Label2 annoyance\n",
      "Text:Physics karte karte thak gaya to yeh bana diya. Arts hi le lena chahiye tha shayad .. \n",
      " Label1 neutral\n",
      " Label2 annoyance\n",
      "Text:Couldn’t help but notice the little pythagorean theorem in the noodles bathroom. We’re so lucky to have this universe \n",
      " Label1 admiration\n",
      " Label2 approval\n",
      "Text:Midnight Shenanigans \n",
      " Label1 neutral\n",
      " Label2 surprise\n",
      "Text:Dukh dard peeda kasht \n",
      " Label1 neutral\n",
      " Label2 approval\n",
      "Text:\"Find a nice little starter home\" - everyone's parents \n",
      " Label1 admiration\n",
      " Label2 neutral\n",
      "Text:Why do people think students don't need/deserve money for their time?!? \n",
      " Label1 neutral\n",
      " Label2 annoyance\n",
      "Text:Holup reddit \n",
      " Label1 neutral\n",
      " Label2 annoyance\n",
      "Text:How to deal with imbalanced income levels relationship? \n",
      " Label1 neutral\n",
      " Label2 annoyance\n",
      "Text:Mississippi police chief fired after racist recording leaked. \n",
      " Label1 neutral\n",
      " Label2 annoyance\n",
      "Text:When the hunter becomes the prey \n",
      " Label1 neutral\n",
      " Label2 annoyance\n",
      "Text:To hug a cow \n",
      " Label1 admiration\n",
      " Label2 neutral\n",
      "Text:Literally trying to throw more money at the cops after all the shit with Uvalde and everything else. \n",
      " Label1 neutral\n",
      " Label2 annoyance\n",
      "Text:Man In the mirror nods his head \n",
      " Label1 neutral\n",
      " Label2 annoyance\n",
      "Text:Gentlemen, please, control yourselves \n",
      " Label1 neutral\n",
      " Label2 annoyance\n",
      "Text:Definitely the right one bro… \n",
      " Label1 neutral\n",
      " Label2 annoyance\n",
      "Text:Tusk act 4 saved you from cringe \n",
      " Label1 neutral\n",
      " Label2 annoyance\n",
      "Text:Duh dun duh duuuuhhhhh! \n",
      " Label1 neutral\n",
      " Label2 annoyance\n",
      "Text:कोई गम नहीं । भ्राता श्री \n",
      " Label1 neutral\n",
      " Label2 approval\n",
      "Text:AITA for going “bridezilla” after my bridesmaid spilled wine on my wedding dress? \n",
      " Label1 neutral\n",
      " Label2 annoyance\n",
      "Text:Why is Ticketmaster still around? \n",
      " Label1 neutral\n",
      " Label2 annoyance\n",
      "Text:The results of my backtest buying and shorting SPY over the last 400 days. 588 trades, 6 ticks of round trip slippage in both directions. Trade signals are generated from monitoring S&P500 ticker activity each minute. Will take it live next week and report back! \n",
      " Label1 neutral\n",
      " Label2 annoyance\n",
      "Text:JEENEETARDS ROCKS....CH** SHIVAM SHOCK \n",
      " Label1 neutral\n",
      " Label2 annoyance\n",
      "Text:The same subreddit starter pack \n",
      " Label1 neutral\n",
      " Label2 annoyance\n",
      "Text:Men are such dogs \n",
      " Label1 neutral\n",
      " Label2 annoyance\n"
     ]
    }
   ],
   "source": [
    "for text in posts.Post_Title:\n",
    "    input_prompt = [clean_text(text)]\n",
    "    seq = tokenizer.texts_to_sequences(input_prompt)\n",
    "    padded = pad_sequences(seq, maxlen = MAX_SEQUENCE_LENGTH)\n",
    "    prediction = model.predict(padded)\n",
    "    print(f'Text:{text} \\n Label1 {ids2labels[np.argmax(prediction[0])]}\\n', \n",
    "          f'Label2 {ids2labels[prediction[0].argsort()[-2]]}')"
   ]
  }
 ],
 "metadata": {
  "kernelspec": {
   "display_name": "Python 3 (ipykernel)",
   "language": "python",
   "name": "python3"
  },
  "language_info": {
   "codemirror_mode": {
    "name": "ipython",
    "version": 3
   },
   "file_extension": ".py",
   "mimetype": "text/x-python",
   "name": "python",
   "nbconvert_exporter": "python",
   "pygments_lexer": "ipython3",
   "version": "3.9.12"
  },
  "widgets": {
   "application/vnd.jupyter.widget-state+json": {
    "state": {
     "0464eab0f5ef4b67bd480f9288e07d15": {
      "model_module": "@jupyter-widgets/base",
      "model_module_version": "1.2.0",
      "model_name": "LayoutModel",
      "state": {}
     },
     "047d268a032849ee9c1b67977f2c5b92": {
      "model_module": "@jupyter-widgets/base",
      "model_module_version": "1.2.0",
      "model_name": "LayoutModel",
      "state": {}
     },
     "050506049b4b40cc803b2fbf5f1783c2": {
      "model_module": "@jupyter-widgets/controls",
      "model_module_version": "1.5.0",
      "model_name": "DescriptionStyleModel",
      "state": {
       "description_width": ""
      }
     },
     "066563fa5ef64d0b9a256a35eabd4926": {
      "model_module": "@jupyter-widgets/controls",
      "model_module_version": "1.5.0",
      "model_name": "DescriptionStyleModel",
      "state": {
       "description_width": ""
      }
     },
     "07adb77974ff41f5abc2e2052e702ec5": {
      "model_module": "@jupyter-widgets/base",
      "model_module_version": "1.2.0",
      "model_name": "LayoutModel",
      "state": {}
     },
     "09c65426132248f8a24a47865fbc9982": {
      "model_module": "@jupyter-widgets/controls",
      "model_module_version": "1.5.0",
      "model_name": "HBoxModel",
      "state": {
       "children": [
        "IPY_MODEL_1f21cf67e36c45a79ac4a8a7b6b93dec",
        "IPY_MODEL_15db684a79b246748f538c9cd81ea959",
        "IPY_MODEL_319e7bae1f534d188710065b0a5a5df0"
       ],
       "layout": "IPY_MODEL_14c1ba3186464fbeadfd397bd29fe952"
      }
     },
     "0b0d36c3aa404a1592d4bfa7fd8ca210": {
      "model_module": "@jupyter-widgets/base",
      "model_module_version": "1.2.0",
      "model_name": "LayoutModel",
      "state": {}
     },
     "0c503767ef024632916663bef3778b49": {
      "model_module": "@jupyter-widgets/controls",
      "model_module_version": "1.5.0",
      "model_name": "HTMLModel",
      "state": {
       "layout": "IPY_MODEL_919c96c2e85747aea5d4af9768b9ddaf",
       "style": "IPY_MODEL_066563fa5ef64d0b9a256a35eabd4926",
       "value": "100%"
      }
     },
     "105892d8f5a14b449e871fdbb9d561e6": {
      "model_module": "@jupyter-widgets/base",
      "model_module_version": "1.2.0",
      "model_name": "LayoutModel",
      "state": {}
     },
     "11da9a4d44094cfe8301194a2f940efe": {
      "model_module": "@jupyter-widgets/controls",
      "model_module_version": "1.5.0",
      "model_name": "HTMLModel",
      "state": {
       "layout": "IPY_MODEL_c8aaa5b7a8e34b739f6a9bd05955123c",
       "style": "IPY_MODEL_18c49e307dcc430287c0cdf21bf9cde8",
       "value": "100%"
      }
     },
     "13da29143233489abb677240a7ea7121": {
      "model_module": "@jupyter-widgets/controls",
      "model_module_version": "1.5.0",
      "model_name": "DescriptionStyleModel",
      "state": {
       "description_width": ""
      }
     },
     "14c1ba3186464fbeadfd397bd29fe952": {
      "model_module": "@jupyter-widgets/base",
      "model_module_version": "1.2.0",
      "model_name": "LayoutModel",
      "state": {}
     },
     "15db684a79b246748f538c9cd81ea959": {
      "model_module": "@jupyter-widgets/controls",
      "model_module_version": "1.5.0",
      "model_name": "FloatProgressModel",
      "state": {
       "bar_style": "success",
       "layout": "IPY_MODEL_7198e4c6a85046b3a478a48555da2d93",
       "max": 3,
       "style": "IPY_MODEL_ea8e654e6c764aafa31f0330c5c53120",
       "value": 3
      }
     },
     "16b3e503b346488a90990ecf0aed2e6b": {
      "model_module": "@jupyter-widgets/controls",
      "model_module_version": "1.5.0",
      "model_name": "HTMLModel",
      "state": {
       "layout": "IPY_MODEL_07adb77974ff41f5abc2e2052e702ec5",
       "style": "IPY_MODEL_b4c42d76fb5f4dfea1287653650fb64a",
       "value": "100%"
      }
     },
     "18c49e307dcc430287c0cdf21bf9cde8": {
      "model_module": "@jupyter-widgets/controls",
      "model_module_version": "1.5.0",
      "model_name": "DescriptionStyleModel",
      "state": {
       "description_width": ""
      }
     },
     "1f21cf67e36c45a79ac4a8a7b6b93dec": {
      "model_module": "@jupyter-widgets/controls",
      "model_module_version": "1.5.0",
      "model_name": "HTMLModel",
      "state": {
       "layout": "IPY_MODEL_df5d5fea99ee49adbeae49db82d87e4b",
       "style": "IPY_MODEL_57eafb17025c47f3bf82f35849fd34a2",
       "value": "100%"
      }
     },
     "2109117a97e24c8c986194f504f05dc2": {
      "model_module": "@jupyter-widgets/base",
      "model_module_version": "1.2.0",
      "model_name": "LayoutModel",
      "state": {}
     },
     "231f7a5a3d934448a48f3be26e8ac0aa": {
      "model_module": "@jupyter-widgets/base",
      "model_module_version": "1.2.0",
      "model_name": "LayoutModel",
      "state": {}
     },
     "2786ab2b98964be4a4e6d170693959eb": {
      "model_module": "@jupyter-widgets/base",
      "model_module_version": "1.2.0",
      "model_name": "LayoutModel",
      "state": {}
     },
     "319e7bae1f534d188710065b0a5a5df0": {
      "model_module": "@jupyter-widgets/controls",
      "model_module_version": "1.5.0",
      "model_name": "HTMLModel",
      "state": {
       "layout": "IPY_MODEL_c2d6441503c14b41978e17e5d21fcf60",
       "style": "IPY_MODEL_caaad388481b4850bef6884db697b96e",
       "value": " 3/3 [00:00&lt;00:00, 62.41it/s]"
      }
     },
     "33dcb840557c4463ae20747d732a7f2c": {
      "model_module": "@jupyter-widgets/base",
      "model_module_version": "1.2.0",
      "model_name": "LayoutModel",
      "state": {}
     },
     "34d2996c227a41eb8cf47316ed8360c3": {
      "model_module": "@jupyter-widgets/controls",
      "model_module_version": "1.5.0",
      "model_name": "HTMLModel",
      "state": {
       "layout": "IPY_MODEL_0464eab0f5ef4b67bd480f9288e07d15",
       "style": "IPY_MODEL_5e369746036f465f9544480d4e5ad91b",
       "value": "100%"
      }
     },
     "3a7bed8ca62b44219038de8ba771bf6e": {
      "model_module": "@jupyter-widgets/controls",
      "model_module_version": "1.5.0",
      "model_name": "ProgressStyleModel",
      "state": {
       "description_width": ""
      }
     },
     "3ccf3fee40374b4793f47e9028ddc09c": {
      "model_module": "@jupyter-widgets/controls",
      "model_module_version": "1.5.0",
      "model_name": "DescriptionStyleModel",
      "state": {
       "description_width": ""
      }
     },
     "41de181b2bbe48bfb46da9650bb516cb": {
      "model_module": "@jupyter-widgets/controls",
      "model_module_version": "1.5.0",
      "model_name": "HBoxModel",
      "state": {
       "children": [
        "IPY_MODEL_626dfa0713ac43a1bfcd28ab03a325ab",
        "IPY_MODEL_d234f6fd11b04fc8b03a2dbbf601cce0",
        "IPY_MODEL_451e54b8bd3f4b8f86b3ad177665d413"
       ],
       "layout": "IPY_MODEL_5583962a0695443dbb668c18e34635cc"
      }
     },
     "431ca3b98dcc4592b049fbe50e561c4f": {
      "model_module": "@jupyter-widgets/controls",
      "model_module_version": "1.5.0",
      "model_name": "ProgressStyleModel",
      "state": {
       "description_width": ""
      }
     },
     "441193bccada4c7797dd57145b4ca2ec": {
      "model_module": "@jupyter-widgets/controls",
      "model_module_version": "1.5.0",
      "model_name": "DescriptionStyleModel",
      "state": {
       "description_width": ""
      }
     },
     "451e54b8bd3f4b8f86b3ad177665d413": {
      "model_module": "@jupyter-widgets/controls",
      "model_module_version": "1.5.0",
      "model_name": "HTMLModel",
      "state": {
       "layout": "IPY_MODEL_105892d8f5a14b449e871fdbb9d561e6",
       "style": "IPY_MODEL_4a3e0a1952e2441b87a289d6fcbf9c26",
       "value": " 3/3 [00:00&lt;00:00, 53.04it/s]"
      }
     },
     "48e087a320604b268dba8833f1bb02da": {
      "model_module": "@jupyter-widgets/base",
      "model_module_version": "1.2.0",
      "model_name": "LayoutModel",
      "state": {}
     },
     "4a3e0a1952e2441b87a289d6fcbf9c26": {
      "model_module": "@jupyter-widgets/controls",
      "model_module_version": "1.5.0",
      "model_name": "DescriptionStyleModel",
      "state": {
       "description_width": ""
      }
     },
     "4ff0f5bf6b83410a97cce4479ac6859c": {
      "model_module": "@jupyter-widgets/base",
      "model_module_version": "1.2.0",
      "model_name": "LayoutModel",
      "state": {}
     },
     "5583962a0695443dbb668c18e34635cc": {
      "model_module": "@jupyter-widgets/base",
      "model_module_version": "1.2.0",
      "model_name": "LayoutModel",
      "state": {}
     },
     "57eafb17025c47f3bf82f35849fd34a2": {
      "model_module": "@jupyter-widgets/controls",
      "model_module_version": "1.5.0",
      "model_name": "DescriptionStyleModel",
      "state": {
       "description_width": ""
      }
     },
     "5e369746036f465f9544480d4e5ad91b": {
      "model_module": "@jupyter-widgets/controls",
      "model_module_version": "1.5.0",
      "model_name": "DescriptionStyleModel",
      "state": {
       "description_width": ""
      }
     },
     "5f150940c82242529790a8771ddcb8ec": {
      "model_module": "@jupyter-widgets/controls",
      "model_module_version": "1.5.0",
      "model_name": "HBoxModel",
      "state": {
       "children": [
        "IPY_MODEL_0c503767ef024632916663bef3778b49",
        "IPY_MODEL_8414dcdef7f5460faf5a6ed6555984d0",
        "IPY_MODEL_a2a1b93c3584450ebf91ec99d8bdd236"
       ],
       "layout": "IPY_MODEL_0b0d36c3aa404a1592d4bfa7fd8ca210"
      }
     },
     "5f1dda58bc2d415a980bf16df3f59852": {
      "model_module": "@jupyter-widgets/base",
      "model_module_version": "1.2.0",
      "model_name": "LayoutModel",
      "state": {}
     },
     "626dfa0713ac43a1bfcd28ab03a325ab": {
      "model_module": "@jupyter-widgets/controls",
      "model_module_version": "1.5.0",
      "model_name": "HTMLModel",
      "state": {
       "layout": "IPY_MODEL_c31470fae85c45cc811e441bbed5fa3a",
       "style": "IPY_MODEL_3ccf3fee40374b4793f47e9028ddc09c",
       "value": "100%"
      }
     },
     "6798c24972a349fb8a5259777a18cd6a": {
      "model_module": "@jupyter-widgets/controls",
      "model_module_version": "1.5.0",
      "model_name": "FloatProgressModel",
      "state": {
       "bar_style": "success",
       "layout": "IPY_MODEL_8ecf702c57984977824c2373ae436a8d",
       "max": 3,
       "style": "IPY_MODEL_431ca3b98dcc4592b049fbe50e561c4f",
       "value": 3
      }
     },
     "6b6477d2f58a47f481527f355da62ed5": {
      "model_module": "@jupyter-widgets/base",
      "model_module_version": "1.2.0",
      "model_name": "LayoutModel",
      "state": {}
     },
     "7198e4c6a85046b3a478a48555da2d93": {
      "model_module": "@jupyter-widgets/base",
      "model_module_version": "1.2.0",
      "model_name": "LayoutModel",
      "state": {}
     },
     "8414dcdef7f5460faf5a6ed6555984d0": {
      "model_module": "@jupyter-widgets/controls",
      "model_module_version": "1.5.0",
      "model_name": "FloatProgressModel",
      "state": {
       "bar_style": "success",
       "layout": "IPY_MODEL_9fb21aa4687f4b65b8b9ae5a677d4ab1",
       "max": 3,
       "style": "IPY_MODEL_f05794badd0e487d9018a792b45ec486",
       "value": 3
      }
     },
     "893b9bfb617c4a99ad1652c5e9dd7e19": {
      "model_module": "@jupyter-widgets/controls",
      "model_module_version": "1.5.0",
      "model_name": "DescriptionStyleModel",
      "state": {
       "description_width": ""
      }
     },
     "895eb4ff93e645d2b5878a76ee14fee4": {
      "model_module": "@jupyter-widgets/controls",
      "model_module_version": "1.5.0",
      "model_name": "FloatProgressModel",
      "state": {
       "bar_style": "success",
       "layout": "IPY_MODEL_b344a58f2056490b9713e378135dca1d",
       "max": 3,
       "style": "IPY_MODEL_bc77532324e342bf8330b8d2b7296652",
       "value": 3
      }
     },
     "8ecf702c57984977824c2373ae436a8d": {
      "model_module": "@jupyter-widgets/base",
      "model_module_version": "1.2.0",
      "model_name": "LayoutModel",
      "state": {}
     },
     "919c96c2e85747aea5d4af9768b9ddaf": {
      "model_module": "@jupyter-widgets/base",
      "model_module_version": "1.2.0",
      "model_name": "LayoutModel",
      "state": {}
     },
     "9fb21aa4687f4b65b8b9ae5a677d4ab1": {
      "model_module": "@jupyter-widgets/base",
      "model_module_version": "1.2.0",
      "model_name": "LayoutModel",
      "state": {}
     },
     "a039c6e48a3d417ea521036cc3319b46": {
      "model_module": "@jupyter-widgets/base",
      "model_module_version": "1.2.0",
      "model_name": "LayoutModel",
      "state": {}
     },
     "a2a1b93c3584450ebf91ec99d8bdd236": {
      "model_module": "@jupyter-widgets/controls",
      "model_module_version": "1.5.0",
      "model_name": "HTMLModel",
      "state": {
       "layout": "IPY_MODEL_2109117a97e24c8c986194f504f05dc2",
       "style": "IPY_MODEL_050506049b4b40cc803b2fbf5f1783c2",
       "value": " 3/3 [00:00&lt;00:00, 62.49it/s]"
      }
     },
     "ade179d4f4974ed89a3446db01247021": {
      "model_module": "@jupyter-widgets/controls",
      "model_module_version": "1.5.0",
      "model_name": "FloatProgressModel",
      "state": {
       "bar_style": "success",
       "layout": "IPY_MODEL_231f7a5a3d934448a48f3be26e8ac0aa",
       "max": 3,
       "style": "IPY_MODEL_dea5a6f91e6140bcabc5e2f1bd86276e",
       "value": 3
      }
     },
     "b344a58f2056490b9713e378135dca1d": {
      "model_module": "@jupyter-widgets/base",
      "model_module_version": "1.2.0",
      "model_name": "LayoutModel",
      "state": {}
     },
     "b4c42d76fb5f4dfea1287653650fb64a": {
      "model_module": "@jupyter-widgets/controls",
      "model_module_version": "1.5.0",
      "model_name": "DescriptionStyleModel",
      "state": {
       "description_width": ""
      }
     },
     "b50337b2e5f24af49fa874897d69eeb7": {
      "model_module": "@jupyter-widgets/controls",
      "model_module_version": "1.5.0",
      "model_name": "FloatProgressModel",
      "state": {
       "bar_style": "success",
       "layout": "IPY_MODEL_a039c6e48a3d417ea521036cc3319b46",
       "max": 3,
       "style": "IPY_MODEL_3a7bed8ca62b44219038de8ba771bf6e",
       "value": 3
      }
     },
     "bbea5823876b46039ec99cb35ff13be6": {
      "model_module": "@jupyter-widgets/controls",
      "model_module_version": "1.5.0",
      "model_name": "HBoxModel",
      "state": {
       "children": [
        "IPY_MODEL_16b3e503b346488a90990ecf0aed2e6b",
        "IPY_MODEL_6798c24972a349fb8a5259777a18cd6a",
        "IPY_MODEL_c75372f1f5784be49f23eb0332cff69a"
       ],
       "layout": "IPY_MODEL_6b6477d2f58a47f481527f355da62ed5"
      }
     },
     "bc77532324e342bf8330b8d2b7296652": {
      "model_module": "@jupyter-widgets/controls",
      "model_module_version": "1.5.0",
      "model_name": "ProgressStyleModel",
      "state": {
       "description_width": ""
      }
     },
     "c015dfa07d4142b4850c09df52909539": {
      "model_module": "@jupyter-widgets/controls",
      "model_module_version": "1.5.0",
      "model_name": "ProgressStyleModel",
      "state": {
       "description_width": ""
      }
     },
     "c2d6441503c14b41978e17e5d21fcf60": {
      "model_module": "@jupyter-widgets/base",
      "model_module_version": "1.2.0",
      "model_name": "LayoutModel",
      "state": {}
     },
     "c2f68f0341884561b29539165bc6e099": {
      "model_module": "@jupyter-widgets/controls",
      "model_module_version": "1.5.0",
      "model_name": "HTMLModel",
      "state": {
       "layout": "IPY_MODEL_dd2105025767444f99d71bf97a3e2406",
       "style": "IPY_MODEL_13da29143233489abb677240a7ea7121",
       "value": " 3/3 [00:00&lt;00:00, 62.45it/s]"
      }
     },
     "c31470fae85c45cc811e441bbed5fa3a": {
      "model_module": "@jupyter-widgets/base",
      "model_module_version": "1.2.0",
      "model_name": "LayoutModel",
      "state": {}
     },
     "c75372f1f5784be49f23eb0332cff69a": {
      "model_module": "@jupyter-widgets/controls",
      "model_module_version": "1.5.0",
      "model_name": "HTMLModel",
      "state": {
       "layout": "IPY_MODEL_047d268a032849ee9c1b67977f2c5b92",
       "style": "IPY_MODEL_ed007a1207a84a8a9da54b33568c63be",
       "value": " 3/3 [00:00&lt;00:00, 53.56it/s]"
      }
     },
     "c8aaa5b7a8e34b739f6a9bd05955123c": {
      "model_module": "@jupyter-widgets/base",
      "model_module_version": "1.2.0",
      "model_name": "LayoutModel",
      "state": {}
     },
     "caaad388481b4850bef6884db697b96e": {
      "model_module": "@jupyter-widgets/controls",
      "model_module_version": "1.5.0",
      "model_name": "DescriptionStyleModel",
      "state": {
       "description_width": ""
      }
     },
     "cd06ffd324f34f87a4d4a1e85b2b934c": {
      "model_module": "@jupyter-widgets/controls",
      "model_module_version": "1.5.0",
      "model_name": "HBoxModel",
      "state": {
       "children": [
        "IPY_MODEL_da287c44a2964274aff631b2c34702c4",
        "IPY_MODEL_895eb4ff93e645d2b5878a76ee14fee4",
        "IPY_MODEL_ee188546c0c54593ab07b83edac7e25b"
       ],
       "layout": "IPY_MODEL_f361629ecd274ea89f8593b66809d117"
      }
     },
     "d234f6fd11b04fc8b03a2dbbf601cce0": {
      "model_module": "@jupyter-widgets/controls",
      "model_module_version": "1.5.0",
      "model_name": "FloatProgressModel",
      "state": {
       "bar_style": "success",
       "layout": "IPY_MODEL_f2ec8004ece140f7a846e9577af5a766",
       "max": 3,
       "style": "IPY_MODEL_c015dfa07d4142b4850c09df52909539",
       "value": 3
      }
     },
     "d97836dcd40d49b8b1d2865c72f34d6d": {
      "model_module": "@jupyter-widgets/controls",
      "model_module_version": "1.5.0",
      "model_name": "HBoxModel",
      "state": {
       "children": [
        "IPY_MODEL_34d2996c227a41eb8cf47316ed8360c3",
        "IPY_MODEL_ade179d4f4974ed89a3446db01247021",
        "IPY_MODEL_c2f68f0341884561b29539165bc6e099"
       ],
       "layout": "IPY_MODEL_4ff0f5bf6b83410a97cce4479ac6859c"
      }
     },
     "da287c44a2964274aff631b2c34702c4": {
      "model_module": "@jupyter-widgets/controls",
      "model_module_version": "1.5.0",
      "model_name": "HTMLModel",
      "state": {
       "layout": "IPY_MODEL_5f1dda58bc2d415a980bf16df3f59852",
       "style": "IPY_MODEL_dc918f20430d48bebda4a33ade48cdf5",
       "value": "100%"
      }
     },
     "dc918f20430d48bebda4a33ade48cdf5": {
      "model_module": "@jupyter-widgets/controls",
      "model_module_version": "1.5.0",
      "model_name": "DescriptionStyleModel",
      "state": {
       "description_width": ""
      }
     },
     "dd2105025767444f99d71bf97a3e2406": {
      "model_module": "@jupyter-widgets/base",
      "model_module_version": "1.2.0",
      "model_name": "LayoutModel",
      "state": {}
     },
     "dea5a6f91e6140bcabc5e2f1bd86276e": {
      "model_module": "@jupyter-widgets/controls",
      "model_module_version": "1.5.0",
      "model_name": "ProgressStyleModel",
      "state": {
       "description_width": ""
      }
     },
     "df5d5fea99ee49adbeae49db82d87e4b": {
      "model_module": "@jupyter-widgets/base",
      "model_module_version": "1.2.0",
      "model_name": "LayoutModel",
      "state": {}
     },
     "e420ee9035ed421faf0155a4208a83a4": {
      "model_module": "@jupyter-widgets/controls",
      "model_module_version": "1.5.0",
      "model_name": "HTMLModel",
      "state": {
       "layout": "IPY_MODEL_33dcb840557c4463ae20747d732a7f2c",
       "style": "IPY_MODEL_441193bccada4c7797dd57145b4ca2ec",
       "value": " 3/3 [00:00&lt;00:00, 46.92it/s]"
      }
     },
     "ea8e654e6c764aafa31f0330c5c53120": {
      "model_module": "@jupyter-widgets/controls",
      "model_module_version": "1.5.0",
      "model_name": "ProgressStyleModel",
      "state": {
       "description_width": ""
      }
     },
     "ed007a1207a84a8a9da54b33568c63be": {
      "model_module": "@jupyter-widgets/controls",
      "model_module_version": "1.5.0",
      "model_name": "DescriptionStyleModel",
      "state": {
       "description_width": ""
      }
     },
     "ee188546c0c54593ab07b83edac7e25b": {
      "model_module": "@jupyter-widgets/controls",
      "model_module_version": "1.5.0",
      "model_name": "HTMLModel",
      "state": {
       "layout": "IPY_MODEL_48e087a320604b268dba8833f1bb02da",
       "style": "IPY_MODEL_893b9bfb617c4a99ad1652c5e9dd7e19",
       "value": " 3/3 [00:00&lt;00:00, 62.50it/s]"
      }
     },
     "f05794badd0e487d9018a792b45ec486": {
      "model_module": "@jupyter-widgets/controls",
      "model_module_version": "1.5.0",
      "model_name": "ProgressStyleModel",
      "state": {
       "description_width": ""
      }
     },
     "f2ec8004ece140f7a846e9577af5a766": {
      "model_module": "@jupyter-widgets/base",
      "model_module_version": "1.2.0",
      "model_name": "LayoutModel",
      "state": {}
     },
     "f361629ecd274ea89f8593b66809d117": {
      "model_module": "@jupyter-widgets/base",
      "model_module_version": "1.2.0",
      "model_name": "LayoutModel",
      "state": {}
     },
     "f8d76117b2ca49f3ad25fbb102489f95": {
      "model_module": "@jupyter-widgets/controls",
      "model_module_version": "1.5.0",
      "model_name": "HBoxModel",
      "state": {
       "children": [
        "IPY_MODEL_11da9a4d44094cfe8301194a2f940efe",
        "IPY_MODEL_b50337b2e5f24af49fa874897d69eeb7",
        "IPY_MODEL_e420ee9035ed421faf0155a4208a83a4"
       ],
       "layout": "IPY_MODEL_2786ab2b98964be4a4e6d170693959eb"
      }
     }
    },
    "version_major": 2,
    "version_minor": 0
   }
  }
 },
 "nbformat": 4,
 "nbformat_minor": 5
}
